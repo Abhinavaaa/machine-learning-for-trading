{
  "nbformat": 4,
  "nbformat_minor": 0,
  "metadata": {
    "colab": {
      "provenance": [],
      "authorship_tag": "ABX9TyNV5NT1kmNkA8lLXkTkaPOe",
      "include_colab_link": true
    },
    "kernelspec": {
      "name": "python3",
      "display_name": "Python 3"
    },
    "language_info": {
      "name": "python"
    }
  },
  "cells": [
    {
      "cell_type": "markdown",
      "metadata": {
        "id": "view-in-github",
        "colab_type": "text"
      },
      "source": [
        "<a href=\"https://colab.research.google.com/github/Abhinavaaa/machine-learning-for-trading/blob/main/160121771117_DLS.ipynb\" target=\"_parent\"><img src=\"https://colab.research.google.com/assets/colab-badge.svg\" alt=\"Open In Colab\"/></a>"
      ]
    },
    {
      "cell_type": "code",
      "source": [
        "from collections import defaultdict\n",
        "class Graph:\n",
        "  def __init__(self,vertices):\n",
        "    self.V=vertices\n",
        "    self.graph=defaultdict(list)\n",
        "  def addEdge(self,u,v):\n",
        "    self.graph[u].append(v)\n",
        "  def DLS(self,src,target,maxDepth):\n",
        "    if src==target:return True\n",
        "    if maxDepth<=0:return False\n",
        "\n",
        "\n",
        "    for i in self.graph[src]:\n",
        "      if(self.DLS(i,target,maxDepth-1)):\n",
        "        return True\n",
        "      return False\n",
        "  def IDDFS(self,src,target,maxDepth):\n",
        "    for i in range(maxDepth):\n",
        "      if(self.DLS(src,target,i)):\n",
        "        return True\n",
        "      return False\n",
        "g=Graph(7)\n",
        "g.addEdge(0,1)\n",
        "g.addEdge(0,2)\n",
        "g.addEdge(1,3)\n",
        "g.addEdge(1,4)\n",
        "g.addEdge(2,5)\n",
        "g.addEdge(2,6)\n",
        "target = 6; maxDepth = 3; src = 0\n",
        "\n",
        "if g.IDDFS(src, target, maxDepth) == True:\n",
        "    print (\"Target is reachable from source \" +\n",
        "        \"within max depth\")\n",
        "else :\n",
        "    print (\"Target is NOT reachable from source \" +\n",
        "        \"within max depth\")"
      ],
      "metadata": {
        "colab": {
          "base_uri": "https://localhost:8080/"
        },
        "id": "hNvALwA1eAf7",
        "outputId": "2f80ea1d-f3f6-4801-dd24-340a86486924"
      },
      "execution_count": 1,
      "outputs": [
        {
          "output_type": "stream",
          "name": "stdout",
          "text": [
            "Target is NOT reachable from source within max depth\n"
          ]
        }
      ]
    }
  ]
}